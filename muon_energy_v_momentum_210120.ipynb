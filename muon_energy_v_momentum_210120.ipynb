{
 "cells": [
  {
   "cell_type": "code",
   "execution_count": 1,
   "metadata": {},
   "outputs": [],
   "source": [
    "import numpy as np\n",
    "import matplotlib.pyplot as plt"
   ]
  },
  {
   "cell_type": "code",
   "execution_count": 2,
   "metadata": {},
   "outputs": [],
   "source": [
    "mass = 106.\n",
    "momentum = np.arange(0.,150.,5.)"
   ]
  },
  {
   "cell_type": "code",
   "execution_count": 3,
   "metadata": {},
   "outputs": [
    {
     "name": "stdout",
     "output_type": "stream",
     "text": [
      "mass =  106.0\n",
      "momentum =  [  0.   5.  10.  15.  20.  25.  30.  35.  40.  45.  50.  55.  60.  65.\n",
      "  70.  75.  80.  85.  90.  95. 100. 105. 110. 115. 120. 125. 130. 135.\n",
      " 140. 145.]\n"
     ]
    }
   ],
   "source": [
    "print('mass = ',mass)\n",
    "print('momentum = ',momentum)"
   ]
  },
  {
   "cell_type": "markdown",
   "metadata": {},
   "source": [
    "$ E = [m^2 + p^2]^{1/2} $"
   ]
  },
  {
   "cell_type": "code",
   "execution_count": 4,
   "metadata": {},
   "outputs": [
    {
     "name": "stdout",
     "output_type": "stream",
     "text": [
      "energy =  [106.         106.11785901 106.47065323 107.05606008 107.87029248\n",
      " 108.90821824 110.16351483 111.62884932 113.29607231 115.15641537\n",
      " 117.20068259 119.41942891 121.80311983 124.34226956 127.02755607\n",
      " 129.84991336 132.80060241 135.8712626  139.05394637 142.34113952\n",
      " 145.72576986 149.20120643 152.76125163 156.40012788 160.11246048\n",
      " 163.89325795 167.73789077 171.64206944 175.60182231 179.61347388]\n"
     ]
    }
   ],
   "source": [
    "energy = np.sqrt(np.square(mass) + np.square(momentum))\n",
    "print('energy = ',energy)\n"
   ]
  },
  {
   "cell_type": "markdown",
   "metadata": {},
   "source": [
    "rest mass + non-relativistic kinetic energy = $ m + p^2/2m $"
   ]
  },
  {
   "cell_type": "code",
   "execution_count": 5,
   "metadata": {},
   "outputs": [
    {
     "name": "stdout",
     "output_type": "stream",
     "text": [
      "non_relativistic =  [106.         106.11792453 106.47169811 107.06132075 107.88679245\n",
      " 108.94811321 110.24528302 111.77830189 113.54716981 115.55188679\n",
      " 117.79245283 120.26886792 122.98113208 125.92924528 129.11320755\n",
      " 132.53301887 136.18867925 140.08018868 144.20754717 148.57075472\n",
      " 153.16981132 158.00471698 163.0754717  168.38207547 173.9245283\n",
      " 179.70283019 185.71698113 191.96698113 198.45283019 205.1745283 ]\n"
     ]
    }
   ],
   "source": [
    "non_relativistic = mass + 0.5*(np.square(momentum)/mass)\n",
    "print(\"non_relativistic = \",non_relativistic)"
   ]
  },
  {
   "cell_type": "markdown",
   "metadata": {},
   "source": [
    "next order correction from Taylor series expansion = $ (1/2!) \\times (1/4) \\times p^4/m^3 $"
   ]
  },
  {
   "cell_type": "code",
   "execution_count": 6,
   "metadata": {
    "scrolled": true
   },
   "outputs": [
    {
     "name": "stdout",
     "output_type": "stream",
     "text": [
      "correction =  [0.00000000e+00 6.55952565e-05 1.04952410e-03 5.31321578e-03\n",
      " 1.67923857e-02 4.09970353e-02 8.50114524e-02 1.57494211e-01\n",
      " 2.68678171e-01 4.30370478e-01 6.55952565e-01 9.60380150e-01\n",
      " 1.36018324e+00 1.87346612e+00 2.51990737e+00 3.32075986e+00\n",
      " 4.29885073e+00 5.47858142e+00 6.88592764e+00 8.54843942e+00\n",
      " 1.04952410e+01 1.27570311e+01 1.53660824e+01 1.83562422e+01\n",
      " 2.17629318e+01 2.56231471e+01 2.99754579e+01 3.48600087e+01\n",
      " 4.03185180e+01 4.63942786e+01]\n"
     ]
    }
   ],
   "source": [
    "correction = (1./8.)*np.power(momentum,4)/np.power(mass,3)\n",
    "print('correction = ',correction)"
   ]
  },
  {
   "cell_type": "markdown",
   "metadata": {},
   "source": [
    "test the order of arguments to numpy.power method"
   ]
  },
  {
   "cell_type": "code",
   "execution_count": 7,
   "metadata": {},
   "outputs": [
    {
     "name": "stdout",
     "output_type": "stream",
     "text": [
      "myInts =  [0 1 2 3 4]\n",
      "raise3 =  [ 0  1  8 27 64]\n"
     ]
    }
   ],
   "source": [
    "myInts = np.arange(5)\n",
    "print('myInts = ',myInts)\n",
    "raise3 = np.power(myInts,3)\n",
    "print('raise3 = ',raise3)"
   ]
  },
  {
   "cell_type": "markdown",
   "metadata": {},
   "source": [
    "calculate the energy including the rest mass, the non-relativistic kinetic energy and the next order correction from the Taylor series expansion"
   ]
  },
  {
   "cell_type": "code",
   "execution_count": 8,
   "metadata": {
    "scrolled": true
   },
   "outputs": [
    {
     "name": "stdout",
     "output_type": "stream",
     "text": [
      "next_order =  [106.         106.11785893 106.47064859 107.05600754 107.87000007\n",
      " 108.90711617 110.16027157 111.62080768 113.27849164 115.12151631\n",
      " 117.13650027 119.30848777 121.62094884 124.05577916 126.59330017\n",
      " 129.21225901 131.88982852 134.60160726 137.32161952 140.0223153\n",
      " 142.67457028 145.2476859  147.70938929 150.0258333  152.16159649\n",
      " 154.07968312 155.7415232  157.10697243 158.13431222 158.7802497 ]\n"
     ]
    }
   ],
   "source": [
    "next_order = non_relativistic - (1./8.)*np.power(momentum,4)/np.power(mass,3)\n",
    "print('next_order = ',next_order)"
   ]
  },
  {
   "cell_type": "markdown",
   "metadata": {},
   "source": [
    "plot the results of the three calculations"
   ]
  },
  {
   "cell_type": "code",
   "execution_count": 9,
   "metadata": {},
   "outputs": [
    {
     "data": {
      "image/png": "[encoded data removed]",
      "text/plain": [
       "<Figure size 432x288 with 1 Axes>"
      ]
     },
     "metadata": {
      "needs_background": "light"
     },
     "output_type": "display_data"
    }
   ],
   "source": [
    "plt.figure()\n",
    "plt.plot(momentum,energy, label='true relativistic energy')\n",
    "plt.plot(momentum,non_relativistic,color='g', label='non-relativistic limit')\n",
    "plt.plot(momentum,next_order,color='r',label='first order relativisitc')\n",
    "plt.xlabel('momentum  [MeV]')\n",
    "plt.ylabel('energy  [MeV]')\n",
    "plt.title('muon energy as a function of momentum')\n",
    "plt.legend()\n",
    "plt.savefig('muon_energy.png')"
   ]
  },
  {
   "cell_type": "code",
   "execution_count": null,
   "metadata": {},
   "outputs": [],
   "source": []
  }
 ],
 "metadata": {
  "kernelspec": {
   "display_name": "Python 3",
   "language": "python",
   "name": "python3"
  },
  "language_info": {
   "codemirror_mode": {
    "name": "ipython",
    "version": 3
   },
   "file_extension": ".py",
   "mimetype": "text/x-python",
   "name": "python",
   "nbconvert_exporter": "python",
   "pygments_lexer": "ipython3",
   "version": "3.7.6"
  }
 },
 "nbformat": 4,
 "nbformat_minor": 4
}
